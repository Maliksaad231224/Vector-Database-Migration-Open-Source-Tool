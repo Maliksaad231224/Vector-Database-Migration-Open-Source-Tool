{
 "cells": [
  {
   "cell_type": "code",
   "execution_count": 26,
   "id": "bd97d574",
   "metadata": {},
   "outputs": [],
   "source": [
    "from qdrant_client import QdrantClient\n",
    "from qdrant_client.http.models import Distance, VectorParams\n",
    "from langchain_community.vectorstores import Qdrant as QdrantVectorStore\n",
    "from langchain_huggingface import HuggingFaceEndpointEmbeddings\n",
    "import os\n",
    "from dotenv import load_dotenv\n",
    "import chromadb\n",
    "from chromadb import Client as ChromaClient\n",
    "from chromadb.config import Settings"
   ]
  },
  {
   "cell_type": "code",
   "execution_count": 27,
   "id": "85e61234",
   "metadata": {},
   "outputs": [
    {
     "data": {
      "text/plain": [
       "True"
      ]
     },
     "execution_count": 27,
     "metadata": {},
     "output_type": "execute_result"
    }
   ],
   "source": [
    "load_dotenv()"
   ]
  },
  {
   "cell_type": "code",
   "execution_count": 28,
   "id": "863c1f29",
   "metadata": {},
   "outputs": [],
   "source": [
    "\n",
    "qdrant_url = os.getenv(\"QDRANT_URL\")\n",
    "qdrant_api_key = os.getenv(\"QDRANT_API_KEY\")\n",
    "if not qdrant_url or not qdrant_api_key:\n",
    "    raise ValueError(\"set QDRANT_URL and QDRANT_API_KEY in .env file\")\n"
   ]
  },
  {
   "cell_type": "code",
   "execution_count": 78,
   "id": "98523107",
   "metadata": {},
   "outputs": [],
   "source": [
    "qdrant_url = os.getenv(\"QDRANT_URL\")\n",
    "qdrant_api_key = os.getenv(\"QDRANT_API_KEY\")\n",
    "chroma_api_key = os.getenv(\"CHROMA_API_KEY\")\n",
    "chroma_tenant = os.getenv(\"CHROMA_tenant\")\n",
    "HUGGING_FACE_API_TOKEN = os.getenv(\"HUGGING_FACE_API_TOKEN\")"
   ]
  },
  {
   "cell_type": "code",
   "execution_count": 30,
   "id": "d992cf82",
   "metadata": {},
   "outputs": [],
   "source": [
    "import logging\n",
    "logger = logging.getLogger(\"migration\")\n",
    "\n",
    "\n",
    "# Initialize Qdrant client for Qdrant Cloud\n",
    "qdrant_client = QdrantClient(\n",
    "    url=qdrant_url,\n",
    "    api_key=qdrant_api_key,\n",
    "    prefer_grpc=True \n",
    ")\n",
    "logger.info(\"Qdrant Cloud client initialized\")"
   ]
  },
  {
   "cell_type": "code",
   "execution_count": 31,
   "id": "146bcfe7",
   "metadata": {},
   "outputs": [],
   "source": [
    "collection_name=\"vector_db\"\n",
    "vector_dimension = 384"
   ]
  },
  {
   "cell_type": "code",
   "execution_count": 32,
   "id": "601f0724",
   "metadata": {},
   "outputs": [],
   "source": [
    "    # Create collection if it doesn't exist\n",
    "if not qdrant_client.collection_exists(collection_name):\n",
    "        qdrant_client.create_collection(\n",
    "            collection_name=collection_name,\n",
    "            vectors_config=VectorParams(size=vector_dimension, distance=Distance.COSINE)\n",
    "        )\n",
    "logger.info(f\"Created collection: {collection_name}\")"
   ]
  },
  {
   "cell_type": "code",
   "execution_count": 33,
   "id": "dce85c98",
   "metadata": {},
   "outputs": [
    {
     "name": "stderr",
     "output_type": "stream",
     "text": [
      "<>:14: SyntaxWarning: invalid escape sequence '\\A'\n",
      "<>:14: SyntaxWarning: invalid escape sequence '\\A'\n",
      "C:\\Users\\Komal\\AppData\\Local\\Temp\\ipykernel_17252\\1143595057.py:14: SyntaxWarning: invalid escape sequence '\\A'\n",
      "  extracted = load_pdf(data='E:\\AI\\AgileForce\\Vector_db\\Vector-Database-Migration-Open-Source-Tool\\data')\n"
     ]
    }
   ],
   "source": [
    "from langchain_community.document_loaders import DirectoryLoader, PyPDFLoader\n",
    "from langchain.text_splitter import RecursiveCharacterTextSplitter\n",
    "\n",
    "def load_pdf(data):\n",
    "    loader = DirectoryLoader(data, glob=\"*.pdf\", loader_cls=PyPDFLoader)\n",
    "    documents = loader.load()\n",
    "    return documents\n",
    "\n",
    "def text_split(extracted_Data):\n",
    "    text_splitter = RecursiveCharacterTextSplitter(chunk_size=500, chunk_overlap=50)\n",
    "    text_chunk = text_splitter.split_documents(extracted_Data)\n",
    "    return text_chunk\n",
    "\n",
    "extracted = load_pdf(data='E:\\AI\\AgileForce\\Vector_db\\Vector-Database-Migration-Open-Source-Tool\\data')\n",
    "test_chunks = text_split(extracted)\n"
   ]
  },
  {
   "cell_type": "code",
   "execution_count": 34,
   "id": "eed6446b",
   "metadata": {},
   "outputs": [],
   "source": [
    "def download():\n",
    "    model_name = \"sentence-transformers/all-MiniLM-L6-v2\"\n",
    "    return HuggingFaceEndpointEmbeddings(\n",
    "        model=model_name,\n",
    "        huggingfacehub_api_token=HUGGING_FACE_API_TOKEN\n",
    "    )\n",
    "\n",
    "embeddings = download()\n"
   ]
  },
  {
   "cell_type": "code",
   "execution_count": 35,
   "id": "b5685ec6",
   "metadata": {},
   "outputs": [],
   "source": [
    "# Embed and upsert to qdrant\n",
    "qdrant_store = QdrantVectorStore.from_documents(\n",
    "    documents=test_chunks,\n",
    "    embedding=embeddings,\n",
    "    collection_name=collection_name,\n",
    "    url=qdrant_url,\n",
    "    api_key=qdrant_api_key,\n",
    ")\n"
   ]
  },
  {
   "cell_type": "code",
   "execution_count": 82,
   "id": "5a508a92",
   "metadata": {},
   "outputs": [],
   "source": [
    "from chromadb import PersistentClient\n",
    "\n",
    "chroma = PersistentClient(path=\"./chroma_store\")  \n",
    "chroma_collection = chroma.get_or_create_collection(name=\"migrated_vectors\")\n"
   ]
  },
  {
   "cell_type": "code",
   "execution_count": 89,
   "id": "2a8c76ba",
   "metadata": {},
   "outputs": [
    {
     "name": "stderr",
     "output_type": "stream",
     "text": [
      "INFO:chromadb.telemetry.product.posthog:Anonymized telemetry enabled. See                     https://docs.trychroma.com/telemetry for more information.\n",
      "INFO:httpx:HTTP Request: GET https://api.trychroma.com:8000/api/v2/auth/identity \"HTTP/1.1 200 OK\"\n",
      "INFO:chromadb.telemetry.product.posthog:Anonymized telemetry enabled. See                     https://docs.trychroma.com/telemetry for more information.\n",
      "INFO:httpx:HTTP Request: GET https://api.trychroma.com:8000/api/v2/tenants/39241944-9721-46c5-8616-df7e3bc0b07a \"HTTP/1.1 200 OK\"\n",
      "INFO:httpx:HTTP Request: GET https://api.trychroma.com:8000/api/v2/tenants/39241944-9721-46c5-8616-df7e3bc0b07a/databases/migrated_vectors \"HTTP/1.1 200 OK\"\n"
     ]
    }
   ],
   "source": [
    "chroma_client= chromadb.CloudClient(\n",
    "  api_key='ck-83UY8Q48K22Ac8U8SCsMCYz27fPdxg4Er73BGkBm5E8T',\n",
    "  tenant=chroma_tenant,\n",
    "  database='migrated_vectors'\n",
    ")"
   ]
  },
  {
   "cell_type": "code",
   "execution_count": 90,
   "id": "32262fce",
   "metadata": {},
   "outputs": [
    {
     "name": "stderr",
     "output_type": "stream",
     "text": [
      "INFO:httpx:HTTP Request: POST https://api.trychroma.com:8000/api/v2/tenants/39241944-9721-46c5-8616-df7e3bc0b07a/databases/migrated_vectors/collections \"HTTP/1.1 200 OK\"\n"
     ]
    }
   ],
   "source": [
    "collection = chroma_client.get_or_create_collection(\n",
    "    name=\"migrated_vectors\",  \n",
    ")\n"
   ]
  },
  {
   "cell_type": "code",
   "execution_count": 39,
   "id": "31497144",
   "metadata": {},
   "outputs": [],
   "source": [
    "def fetch_qdrant_vectors(client, collection_name, batch_size=100):\n",
    "    all_vectors = []\n",
    "    next_offset = None\n",
    "\n",
    "    while True:\n",
    "        points, next_offset = client.scroll(\n",
    "            collection_name=collection_name,\n",
    "            offset=next_offset,\n",
    "            limit=batch_size,\n",
    "            with_payload=True,\n",
    "            with_vectors=True\n",
    "        )\n",
    "        if not points:\n",
    "            break\n",
    "\n",
    "        for pt in points:\n",
    "            all_vectors.append({\n",
    "                \"id\": str(pt.id),\n",
    "                \"vector\": pt.vector,\n",
    "                \"metadata\": pt.payload or {}\n",
    "            })\n",
    "\n",
    "        if next_offset is None:\n",
    "            break\n",
    "    return all_vectors\n"
   ]
  },
  {
   "cell_type": "code",
   "execution_count": 40,
   "id": "b4116ae6",
   "metadata": {},
   "outputs": [],
   "source": [
    "#Upload to Chroma Cloud with Metadata Truncation\n",
    "\n",
    "def truncate_metadata(metadata, max_bytes=250):\n",
    "    \"\"\"Truncate metadata values to fit within Chroma's byte limits\"\"\"\n",
    "    cleaned_metadata = {}\n",
    "    \n",
    "    for key, value in metadata.items():\n",
    "        # Convert value to string\n",
    "        value_str = str(value) if not isinstance(value, str) else value\n",
    "        \n",
    "        # Check byte size\n",
    "        byte_size = len(value_str.encode('utf-8'))\n",
    "        \n",
    "        if byte_size > max_bytes:\n",
    "            # Truncate to fit within limit\n",
    "            truncated = value_str\n",
    "            while len(truncated.encode('utf-8')) > max_bytes:\n",
    "                truncated = truncated[:-10]  # Remove 10 chars at a time\n",
    "            truncated += \"...\"  # Add ellipsis to indicate truncation\n",
    "            cleaned_metadata[key] = truncated\n",
    "        else:\n",
    "            cleaned_metadata[key] = value_str\n",
    "    \n",
    "    return cleaned_metadata\n",
    "\n",
    "def chunked_upload(collection, vectors, batch_size=100):\n",
    "    \"\"\"Upload vectors with metadata size validation\"\"\"\n",
    "    total_uploaded = 0\n",
    "    \n",
    "    for i in range(0, len(vectors), batch_size):\n",
    "        chunk = vectors[i:i + batch_size]\n",
    "        ids = [v[\"id\"] for v in chunk]\n",
    "        embeddings = [v[\"vector\"] for v in chunk]\n",
    "        \n",
    "        # Clean metadata to fit Chroma limits\n",
    "        metadatas = [truncate_metadata(v[\"metadata\"]) for v in chunk]\n",
    "\n",
    "        try:\n",
    "            collection.add(\n",
    "                ids=ids,\n",
    "                embeddings=embeddings,\n",
    "                metadatas=metadatas\n",
    "            )\n",
    "            total_uploaded += len(chunk)\n",
    "            print(f\"Uploaded {total_uploaded} / {len(vectors)} vectors ✅\")\n",
    "        except Exception as e:\n",
    "            print(f\"Error uploading batch {i//batch_size + 1}: {e}\")\n",
    "            continue\n",
    "\n",
    "    return total_uploaded\n",
    "\n"
   ]
  },
  {
   "cell_type": "code",
   "execution_count": 42,
   "id": "64f9b5c2",
   "metadata": {},
   "outputs": [
    {
     "name": "stdout",
     "output_type": "stream",
     "text": [
      "Fetching vectors from Qdrant...\n",
      "Found 400 vectors to migrate\n",
      "\n",
      "Uploading to Chroma Cloud with metadata truncation...\n",
      "Uploaded 100 / 400 vectors ✅\n",
      "Uploaded 200 / 400 vectors ✅\n",
      "Uploaded 300 / 400 vectors ✅\n",
      "Uploaded 400 / 400 vectors ✅\n"
     ]
    }
   ],
   "source": [
    "# Fetch vectors from Qdrant and upload to Chroma\n",
    "print(\"Fetching vectors from Qdrant...\")\n",
    "vectors = fetch_qdrant_vectors(qdrant_client, collection_name)\n",
    "print(f\"Found {len(vectors)} vectors to migrate\")\n",
    "\n",
    "print(\"\\nUploading to Chroma Cloud with metadata truncation...\")\n",
    "uploaded_count = chunked_upload(collection, vectors)"
   ]
  },
  {
   "cell_type": "code",
   "execution_count": 43,
   "id": "d74109e8",
   "metadata": {},
   "outputs": [
    {
     "name": "stdout",
     "output_type": "stream",
     "text": [
      "{'ids': [['ff9e2df7-b9c2-42fc-a3ba-bb39d969dbae', '00864c19-15bd-42a9-8672-8cb8d786dd3f', 'b795957a-da2e-4fa9-9193-36903ef385d7']], 'distances': [[0.0, 0.0, 0.0]], 'embeddings': None, 'metadatas': [[{'page_content': 'The EUROCALL Review, Volume 25, No. 2, September 2017 \\n \\n 19 \\nnamely a research question, description of participants, data collection tools and \\nanalysis. This is followe d by the presentation of the results of the study. The article \\nclose...', 'metadata': \"{'moddate': '2018-03-12T10:24:10-04:00', 'creator': 'Microsoft® Word 2016', 'total_pages': 11, 'creationdate': '2018-03-05T09:43:57+01:00', 'producer': 'Microsoft® Word 2016', 'source': 'E:\\\\\\\\AI\\\\\\\\AgileForce\\\\\\\\Vector_db\\\\\\\\Vector-Database-Migration...\"}, {'page_content': 'The EUROCALL Review, Volume 25, No. 2, September 2017 \\n \\n 19 \\nnamely a research question, description of participants, data collection tools and \\nanalysis. This is followe d by the presentation of the results of the study. The article \\nclose...', 'metadata': \"{'moddate': '2018-03-12T10:24:10-04:00', 'creator': 'Microsoft® Word 2016', 'creationdate': '2018-03-05T09:43:57+01:00', 'total_pages': 11, 'producer': 'Microsoft® Word 2016', 'source': 'E:\\\\\\\\AI\\\\\\\\AgileForce\\\\\\\\Vector_db\\\\\\\\Vector-Database-Migration...\"}, {'page_content': 'The EUROCALL Review, Volume 25, No. 2, September 2017 \\n \\n 19 \\nnamely a research question, description of participants, data collection tools and \\nanalysis. This is followe d by the presentation of the results of the study. The article \\nclose...', 'metadata': \"{'creator': 'Microsoft® Word 2016', 'moddate': '2018-03-12T10:24:10-04:00', 'creationdate': '2018-03-05T09:43:57+01:00', 'total_pages': 11, 'producer': 'Microsoft® Word 2016', 'source': 'E:\\\\\\\\AI\\\\\\\\AgileForce\\\\\\\\Vector_db\\\\\\\\Vector-Database-Migration...\"}]], 'documents': [[None, None, None]], 'uris': None, 'data': None, 'included': ['metadatas', 'documents', 'distances']}\n"
     ]
    }
   ],
   "source": [
    "results = collection.query(\n",
    "    query_embeddings=[vectors[0][\"vector\"]],\n",
    "    n_results=3\n",
    ")\n",
    "print(results)\n"
   ]
  },
  {
   "cell_type": "code",
   "execution_count": null,
   "id": "ba3f75f5",
   "metadata": {},
   "outputs": [
    {
     "name": "stdout",
     "output_type": "stream",
     "text": [
      "Vector 0, Key: 'page_content', Size: 431 bytes\n",
      "Vector 0, Key: 'metadata', Size: 335 bytes\n",
      "Vector 1, Key: 'page_content', Size: 472 bytes\n",
      "Vector 1, Key: 'metadata', Size: 335 bytes\n",
      "Vector 2, Key: 'creator', Size: 21 bytes\n",
      "Vector 2, Key: 'moddate', Size: 25 bytes\n",
      "Vector 2, Key: 'total_pages', Size: 4 bytes\n",
      "Vector 2, Key: 'creationdate', Size: 25 bytes\n",
      "Vector 2, Key: 'producer', Size: 21 bytes\n",
      "Vector 2, Key: 'source', Size: 57 bytes\n",
      "Vector 2, Key: 'page_label', Size: 1 bytes\n",
      "Vector 2, Key: 'page', Size: 3 bytes\n",
      "Vector 2, Key: 'author', Size: 7 bytes\n",
      "Vector 2, Key: 'text', Size: 420 bytes\n",
      "Vector 3, Key: 'page_content', Size: 497 bytes\n",
      "Vector 3, Key: 'metadata', Size: 335 bytes\n",
      "Vector 4, Key: 'page_content', Size: 477 bytes\n",
      "Vector 4, Key: 'metadata', Size: 335 bytes\n",
      "Vector 5, Key: 'page_content', Size: 420 bytes\n",
      "Vector 5, Key: 'metadata', Size: 335 bytes\n",
      "Vector 6, Key: 'page_content', Size: 498 bytes\n",
      "Vector 6, Key: 'metadata', Size: 335 bytes\n",
      "Vector 7, Key: 'creator', Size: 21 bytes\n",
      "Vector 7, Key: 'moddate', Size: 25 bytes\n",
      "Vector 7, Key: 'creationdate', Size: 25 bytes\n",
      "Vector 7, Key: 'total_pages', Size: 4 bytes\n",
      "Vector 7, Key: 'producer', Size: 21 bytes\n",
      "Vector 7, Key: 'source', Size: 57 bytes\n",
      "Vector 7, Key: 'author', Size: 7 bytes\n",
      "Vector 7, Key: 'page', Size: 3 bytes\n",
      "Vector 7, Key: 'page_label', Size: 1 bytes\n",
      "Vector 7, Key: 'text', Size: 472 bytes\n",
      "Vector 8, Key: 'page_content', Size: 433 bytes\n",
      "Vector 8, Key: 'metadata', Size: 335 bytes\n",
      "Vector 9, Key: 'page_content', Size: 482 bytes\n",
      "Vector 9, Key: 'metadata', Size: 336 bytes\n",
      "\n",
      "Found 18 problematic metadata entries:\n",
      "Vector 0: 'page_content' = 431 bytes\n",
      "Preview: The EUROCALL Review, Volume 25, No. 2, September 2017 \n",
      " \n",
      " 19 \n",
      "namely a research question, descriptio...\n",
      "\n",
      "Vector 0: 'metadata' = 335 bytes\n",
      "Preview: {'creator': 'Microsoft® Word 2016', 'moddate': '2018-03-12T10:24:10-04:00', 'total_pages': 11, 'crea...\n",
      "\n",
      "Vector 1: 'page_content' = 472 bytes\n",
      "Preview: knowledge concerning the affordances of mobile devices for language study and they \n",
      "should prepare t...\n",
      "\n",
      "Vector 1: 'metadata' = 335 bytes\n",
      "Preview: {'creator': 'Microsoft® Word 2016', 'moddate': '2018-03-12T10:24:10-04:00', 'total_pages': 11, 'crea...\n",
      "\n",
      "Vector 2: 'text' = 420 bytes\n",
      "Preview: computers for informal English learning (i.e. learning the target langu age for pleasure) \n",
      "and 7 (35...\n",
      "\n",
      "Vector 3: 'page_content' = 497 bytes\n",
      "Preview: claims that the attributes can also be further subdivided. Thus, ability depends on \n",
      "having knowledg...\n",
      "\n",
      "Vector 3: 'metadata' = 335 bytes\n",
      "Preview: {'moddate': '2018-03-12T10:24:10-04:00', 'creator': 'Microsoft® Word 2016', 'total_pages': 11, 'crea...\n",
      "\n",
      "Vector 4: 'page_content' = 477 bytes\n",
      "Preview: developing English vocabulary. \n",
      "S10: I have some online friends and I talk with them in English (Do ...\n",
      "\n",
      "Vector 4: 'metadata' = 335 bytes\n",
      "Preview: {'creator': 'Microsoft® Word 2016', 'moddate': '2018-03-12T10:24:10-04:00', 'total_pages': 11, 'crea...\n",
      "\n",
      "Vector 5: 'page_content' = 420 bytes\n",
      "Preview: computers for informal English learning (i.e. learning the target langu age for pleasure) \n",
      "and 7 (35...\n",
      "\n",
      "Vector 5: 'metadata' = 335 bytes\n",
      "Preview: {'creator': 'Microsoft® Word 2016', 'moddate': '2018-03-12T10:24:10-04:00', 'creationdate': '2018-03...\n",
      "\n",
      "Vector 6: 'page_content' = 498 bytes\n",
      "Preview: environments in order to develop learning experiences that reach thei r aims and meet \n",
      "their needs a...\n",
      "\n",
      "Vector 6: 'metadata' = 335 bytes\n",
      "Preview: {'creator': 'Microsoft® Word 2016', 'moddate': '2018-03-12T10:24:10-04:00', 'creationdate': '2018-03...\n",
      "\n",
      "Vector 7: 'text' = 472 bytes\n",
      "Preview: knowledge concerning the affordances of mobile devices for language study and they \n",
      "should prepare t...\n",
      "\n",
      "Vector 8: 'page_content' = 433 bytes\n",
      "Preview: (seven females and two males) were in the second year of their BA programme, six \n",
      "(five females and ...\n",
      "\n",
      "Vector 8: 'metadata' = 335 bytes\n",
      "Preview: {'creator': 'Microsoft® Word 2016', 'moddate': '2018-03-12T10:24:10-04:00', 'total_pages': 11, 'crea...\n",
      "\n",
      "Vector 9: 'page_content' = 482 bytes\n",
      "Preview: CALL Journal I, 10 (1), 3-19. \n",
      "Cakir, I. (2015). Opinions and attitudes of prospective teachers for ...\n",
      "\n",
      "Vector 9: 'metadata' = 336 bytes\n",
      "Preview: {'creator': 'Microsoft® Word 2016', 'moddate': '2018-03-12T10:24:10-04:00', 'total_pages': 11, 'crea...\n",
      "\n"
     ]
    }
   ],
   "source": [
    "# Check metadata sizes to identify the problem\n",
    "\n",
    "def check_metadata_sizes(vectors):\n",
    "    \"\"\"Check metadata sizes and identify problematic entries\"\"\"\n",
    "    problematic_entries = []\n",
    "    \n",
    "    for i, vector in enumerate(vectors[:10]):  # Check first 10 for analysis\n",
    "        metadata = vector.get(\"metadata\", {})\n",
    "        \n",
    "        for key, value in metadata.items():\n",
    "            # Convert to string to measure byte size\n",
    "            value_str = str(value) if not isinstance(value, str) else value\n",
    "            byte_size = len(value_str.encode('utf-8'))\n",
    "            \n",
    "            print(f\"Vector {i}, Key: '{key}', Size: {byte_size} bytes\")\n",
    "            \n",
    "            if byte_size > 256:\n",
    "                problematic_entries.append({\n",
    "                    'vector_index': i,\n",
    "                    'key': key,\n",
    "                    'size': byte_size,\n",
    "                    'value_preview': value_str[:100] + \"...\" if len(value_str) > 100 else value_str\n",
    "                })\n",
    "    \n",
    "    return problematic_entries\n",
    "\n",
    "# Check the metadata sizes\n",
    "problematic = check_metadata_sizes(vectors)\n",
    "print(f\"\\nFound {len(problematic)} problematic metadata entries:\")\n",
    "for entry in problematic:\n",
    "    print(f\"Vector {entry['vector_index']}: '{entry['key']}' = {entry['size']} bytes\")\n",
    "    print(f\"Preview: {entry['value_preview']}\\n\")"
   ]
  },
  {
   "cell_type": "code",
   "execution_count": 45,
   "id": "c9d3dc5d",
   "metadata": {},
   "outputs": [
    {
     "name": "stdout",
     "output_type": "stream",
     "text": [
      " Migration Successful!\n",
      "Total vectors in Chroma: 100\n",
      "\n",
      "Sample metadata (truncated to fit Chroma limits):\n",
      "  source: 57 bytes - E:\\AGILEFORCE\\Vector Database Migration\\data\\resea...\n",
      "  author: 7 bytes - agimeno\n",
      "  creator: 21 bytes - Microsoft® Word 2016\n",
      "  producer: 21 bytes - Microsoft® Word 2016\n",
      "  creationdate: 25 bytes - 2018-03-05T09:43:57+01:00\n",
      "  page: 3 bytes - 6.0\n",
      "  moddate: 25 bytes - 2018-03-12T10:24:10-04:00\n",
      "  text: 253 bytes - computers for informal English learning (i.e. lear...\n",
      "  page_label: 1 bytes - 7\n",
      "  total_pages: 4 bytes - 11.0\n",
      " Successfully migrated 100 vectors from Qdrant to Chroma!\n"
     ]
    }
   ],
   "source": [
    "\n",
    "collection_info = collection.get()\n",
    "print(f\" Migration Successful!\")\n",
    "print(f\"Total vectors in Chroma: {len(collection_info['ids'])}\")\n",
    "\n",
    "# Show a sample of the truncated metadata\n",
    "if collection_info['metadatas']:\n",
    "    sample_metadata = collection_info['metadatas'][0]\n",
    "    print(f\"\\nSample metadata (truncated to fit Chroma limits):\")\n",
    "    for key, value in sample_metadata.items():\n",
    "        byte_size = len(str(value).encode('utf-8'))\n",
    "        print(f\"  {key}: {byte_size} bytes - {str(value)[:50]}{'...' if len(str(value)) > 50 else ''}\")\n",
    "        \n",
    "print(f\" Successfully migrated {len(collection_info['ids'])} vectors from Qdrant to Chroma!\")"
   ]
  },
  {
   "cell_type": "markdown",
   "id": "00bea90c",
   "metadata": {},
   "source": [
    "Chroma to Qdrant"
   ]
  },
  {
   "cell_type": "code",
   "execution_count": 56,
   "id": "b02b5954",
   "metadata": {},
   "outputs": [],
   "source": [
    "\n",
    "if not qdrant_url or not qdrant_api_key:\n",
    "    raise ValueError(\"Set QDRANT_URL and QDRANT_API_KEY in .env file\")\n",
    "if not chroma_api_key or not chroma_tenant:\n",
    "    raise ValueError(\"Set CHROMA_API_KEY, CHROMA_TENANT, and CHROMA_DATABASE in .env file\")"
   ]
  },
  {
   "cell_type": "code",
   "execution_count": 57,
   "id": "41142d4d",
   "metadata": {},
   "outputs": [],
   "source": [
    "# Cell 3: Setup logging and initialize clients\n",
    "logger = logging.getLogger(\"migration\")\n",
    "logging.basicConfig(level=logging.INFO)"
   ]
  },
  {
   "cell_type": "code",
   "execution_count": 58,
   "id": "2ca0924b",
   "metadata": {},
   "outputs": [
    {
     "name": "stderr",
     "output_type": "stream",
     "text": [
      "INFO:httpx:HTTP Request: GET https://a39cabe9-e04e-41bc-bfc8-c35e32b99b11.eu-west-2-0.aws.cloud.qdrant.io:6333 \"HTTP/1.1 200 OK\"\n",
      "INFO:migration:Qdrant Cloud client initialized\n"
     ]
    }
   ],
   "source": [
    "# Initialize Qdrant client\n",
    "qdrant_client = QdrantClient(\n",
    "    url=qdrant_url,\n",
    "    api_key=qdrant_api_key,\n",
    "    prefer_grpc=True\n",
    ")\n",
    "logger.info(\"Qdrant Cloud client initialized\")"
   ]
  },
  {
   "cell_type": "code",
   "execution_count": 68,
   "id": "7b62aa7c",
   "metadata": {},
   "outputs": [],
   "source": [
    "# Cell 4: Setup collections\n",
    "chroma_collection_name = \"migrated_vectors\"\n",
    "qdrant_collection_name = \"chroma_to_qdrant\"\n",
    "vector_dimension = 384"
   ]
  },
  {
   "cell_type": "code",
   "execution_count": 69,
   "id": "e8a814c4",
   "metadata": {},
   "outputs": [
    {
     "name": "stderr",
     "output_type": "stream",
     "text": [
      "INFO:migration:Created Qdrant collection: chroma_to_qdrant\n"
     ]
    }
   ],
   "source": [
    "# Create Qdrant collection if it doesn't exist\n",
    "if not qdrant_client.collection_exists(qdrant_collection_name):\n",
    "    qdrant_client.create_collection(\n",
    "        collection_name=qdrant_collection_name,\n",
    "        vectors_config=VectorParams(size=vector_dimension, distance=Distance.COSINE)\n",
    "    )\n",
    "logger.info(f\"Created Qdrant collection: {qdrant_collection_name}\")"
   ]
  },
  {
   "cell_type": "code",
   "execution_count": 70,
   "id": "acb3b4dd",
   "metadata": {},
   "outputs": [
    {
     "name": "stderr",
     "output_type": "stream",
     "text": [
      "INFO:httpx:HTTP Request: POST https://api.trychroma.com:8000/api/v2/tenants/39241944-9721-46c5-8616-df7e3bc0b07a/databases/migrated_vectors/collections \"HTTP/1.1 200 OK\"\n",
      "INFO:migration:Accessed Chroma collection: migrated_vectors\n"
     ]
    }
   ],
   "source": [
    "# Get Chroma collection\n",
    "chroma_collection = chroma_client.get_or_create_collection(name=chroma_collection_name)\n",
    "logger.info(f\"Accessed Chroma collection: {chroma_collection_name}\")\n"
   ]
  },
  {
   "cell_type": "code",
   "execution_count": null,
   "id": "5befb52d",
   "metadata": {},
   "outputs": [],
   "source": [
    "# Fetch vectors from Chroma\n",
    "def fetch_chroma_vectors(collection, batch_size=100):\n",
    "    \"\"\"Fetch all vectors from Chroma collection\"\"\"\n",
    "    all_vectors = []\n",
    "    offset = 0\n",
    "\n",
    "    while True:\n",
    "        results = collection.get(\n",
    "            include=[\"embeddings\", \"metadatas\"],\n",
    "            limit=batch_size,\n",
    "            offset=offset\n",
    "        )\n",
    "        \n",
    "        if not results['ids']:\n",
    "            break\n",
    "\n",
    "        for i in range(len(results['ids'])):\n",
    "            all_vectors.append({\n",
    "                \"id\": results['ids'][i],\n",
    "                \"vector\": results['embeddings'][i],\n",
    "                \"metadata\": results['metadatas'][i] or {}\n",
    "            })\n",
    "\n",
    "        offset += batch_size\n",
    "        logger.info(f\"Fetched {len(all_vectors)} vectors so far...\")\n",
    "\n",
    "    return all_vectors"
   ]
  },
  {
   "cell_type": "code",
   "execution_count": null,
   "id": "6967d6c9",
   "metadata": {},
   "outputs": [],
   "source": [
    "# Metadata truncation function\n",
    "def truncate_metadata(metadata, max_bytes=250):\n",
    "    \"\"\"Truncate metadata values to fit within Qdrant's byte limits\"\"\"\n",
    "    cleaned_metadata = {}\n",
    "    \n",
    "    for key, value in metadata.items():\n",
    "        # Convert value to string\n",
    "        value_str = str(value) if not isinstance(value, str) else value\n",
    "        \n",
    "        # Check byte size\n",
    "        byte_size = len(value_str.encode('utf-8'))\n",
    "        \n",
    "        if byte_size > max_bytes:\n",
    "            # Truncate to fit within limit\n",
    "            truncated = value_str\n",
    "            while len(truncated.encode('utf-8')) > max_bytes:\n",
    "                truncated = truncated[:-10]  # Remove 10 chars at a time\n",
    "            truncated += \"...\"  # Add ellipsis to indicate truncation\n",
    "            cleaned_metadata[key] = truncated\n",
    "        else:\n",
    "            cleaned_metadata[key] = value_str\n",
    "    \n",
    "    return cleaned_metadata"
   ]
  },
  {
   "cell_type": "code",
   "execution_count": null,
   "id": "74ff3aa2",
   "metadata": {},
   "outputs": [],
   "source": [
    "# Upload vectors to Qdrant\n",
    "from qdrant_client.http.models import PointStruct\n",
    "\n",
    "def chunked_upload_to_qdrant(client, collection_name, vectors, batch_size=100):\n",
    "    \"\"\"Upload vectors to Qdrant with metadata size validation\"\"\"\n",
    "    total_uploaded = 0\n",
    "    \n",
    "    for i in range(0, len(vectors), batch_size):\n",
    "        chunk = vectors[i:i + batch_size]\n",
    "        points = []\n",
    "        \n",
    "        for v in chunk:\n",
    "            cleaned_metadata = truncate_metadata(v[\"metadata\"])\n",
    "            points.append(PointStruct(\n",
    "                id=v[\"id\"],\n",
    "                vector=v[\"vector\"],\n",
    "                payload=cleaned_metadata\n",
    "            ))\n",
    "\n",
    "        try:\n",
    "            client.upsert(\n",
    "                collection_name=collection_name,\n",
    "                points=points\n",
    "            )\n",
    "            total_uploaded += len(chunk)\n",
    "            logger.info(f\"Uploaded {total_uploaded} / {len(vectors)} vectors to Qdrant \")\n",
    "        except Exception as e:\n",
    "            logger.error(f\"Error uploading batch {i//batch_size + 1}: {e}\")\n",
    "            continue\n",
    "\n",
    "    return total_uploaded"
   ]
  },
  {
   "cell_type": "code",
   "execution_count": null,
   "id": "4d8d22b7",
   "metadata": {},
   "outputs": [
    {
     "name": "stderr",
     "output_type": "stream",
     "text": [
      "INFO:migration:Fetching vectors from Chroma...\n",
      "INFO:httpx:HTTP Request: POST https://api.trychroma.com:8000/api/v2/tenants/39241944-9721-46c5-8616-df7e3bc0b07a/databases/migrated_vectors/collections/7375b3a7-a31a-4db7-957e-a96aafc84ce6/get \"HTTP/1.1 200 OK\"\n",
      "INFO:migration:Fetched 100 vectors so far...\n",
      "INFO:httpx:HTTP Request: POST https://api.trychroma.com:8000/api/v2/tenants/39241944-9721-46c5-8616-df7e3bc0b07a/databases/migrated_vectors/collections/7375b3a7-a31a-4db7-957e-a96aafc84ce6/get \"HTTP/1.1 200 OK\"\n",
      "INFO:migration:Fetched 200 vectors so far...\n",
      "INFO:httpx:HTTP Request: POST https://api.trychroma.com:8000/api/v2/tenants/39241944-9721-46c5-8616-df7e3bc0b07a/databases/migrated_vectors/collections/7375b3a7-a31a-4db7-957e-a96aafc84ce6/get \"HTTP/1.1 200 OK\"\n",
      "INFO:migration:Fetched 300 vectors so far...\n",
      "INFO:httpx:HTTP Request: POST https://api.trychroma.com:8000/api/v2/tenants/39241944-9721-46c5-8616-df7e3bc0b07a/databases/migrated_vectors/collections/7375b3a7-a31a-4db7-957e-a96aafc84ce6/get \"HTTP/1.1 200 OK\"\n",
      "INFO:migration:Fetched 400 vectors so far...\n",
      "INFO:httpx:HTTP Request: POST https://api.trychroma.com:8000/api/v2/tenants/39241944-9721-46c5-8616-df7e3bc0b07a/databases/migrated_vectors/collections/7375b3a7-a31a-4db7-957e-a96aafc84ce6/get \"HTTP/1.1 200 OK\"\n",
      "INFO:migration:Found 400 vectors to migrate\n",
      "INFO:migration:\n",
      "Uploading to Qdrant with metadata truncation...\n",
      "INFO:migration:Uploaded 100 / 400 vectors to Qdrant ✅\n",
      "INFO:migration:Uploaded 200 / 400 vectors to Qdrant ✅\n",
      "INFO:migration:Uploaded 300 / 400 vectors to Qdrant ✅\n",
      "INFO:migration:Uploaded 400 / 400 vectors to Qdrant ✅\n"
     ]
    }
   ],
   "source": [
    "#Execute migration\n",
    "logger.info(\"Fetching vectors from Chroma...\")\n",
    "vectors = fetch_chroma_vectors(chroma_collection)\n",
    "logger.info(f\"Found {len(vectors)} vectors to migrate\")\n",
    "\n",
    "logger.info(\"\\nUploading to Qdrant with metadata truncation...\")\n",
    "uploaded_count = chunked_upload_to_qdrant(qdrant_client, qdrant_collection_name, vectors)"
   ]
  },
  {
   "cell_type": "code",
   "execution_count": 76,
   "id": "bb97d4e0",
   "metadata": {},
   "outputs": [
    {
     "name": "stdout",
     "output_type": "stream",
     "text": [
      "Migration Successful!\n",
      "Total vectors in Qdrant: None\n"
     ]
    }
   ],
   "source": [
    "\n",
    "collection_info = qdrant_client.get_collection(qdrant_collection_name)\n",
    "print(f\"Migration Successful!\")\n",
    "print(f\"Total vectors in Qdrant: {collection_info.vectors_count}\")"
   ]
  },
  {
   "cell_type": "code",
   "execution_count": 77,
   "id": "8608ba84",
   "metadata": {},
   "outputs": [
    {
     "name": "stdout",
     "output_type": "stream",
     "text": [
      "\n",
      "Sample metadata (truncated to fit Qdrant limits):\n",
      "  author: 7 bytes - agimeno\n",
      "  creationdate: 25 bytes - 2018-03-05T09:43:57+01:00\n",
      "  creator: 21 bytes - Microsoft® Word 2016\n",
      "  total_pages: 4 bytes - 11.0\n",
      "  page_label: 1 bytes - 7\n",
      "  producer: 21 bytes - Microsoft® Word 2016\n",
      "  moddate: 25 bytes - 2018-03-12T10:24:10-04:00\n",
      "  page: 3 bytes - 6.0\n",
      "  source: 57 bytes - E:\\AGILEFORCE\\Vector Database Migration\\data\\resea...\n",
      "  text: 246 bytes - computers for informal English learning (i.e. lear...\n",
      "Successfully migrated 400 vectors from Chroma to Qdrant!\n"
     ]
    }
   ],
   "source": [
    "if vectors:\n",
    "    sample_vector = vectors[0]\n",
    "    print(f\"\\nSample metadata (truncated to fit Qdrant limits):\")\n",
    "    cleaned_metadata = truncate_metadata(sample_vector['metadata'])\n",
    "    for key, value in cleaned_metadata.items():\n",
    "        byte_size = len(str(value).encode('utf-8'))\n",
    "        print(f\"  {key}: {byte_size} bytes - {str(value)[:50]}{'...' if len(str(value)) > 50 else ''}\")\n",
    "        \n",
    "print(f\"Successfully migrated {uploaded_count} vectors from Chroma to Qdrant!\")"
   ]
  }
 ],
 "metadata": {
  "kernelspec": {
   "display_name": ".venv",
   "language": "python",
   "name": "python3"
  },
  "language_info": {
   "codemirror_mode": {
    "name": "ipython",
    "version": 3
   },
   "file_extension": ".py",
   "mimetype": "text/x-python",
   "name": "python",
   "nbconvert_exporter": "python",
   "pygments_lexer": "ipython3",
   "version": "3.12.7"
  }
 },
 "nbformat": 4,
 "nbformat_minor": 5
}
