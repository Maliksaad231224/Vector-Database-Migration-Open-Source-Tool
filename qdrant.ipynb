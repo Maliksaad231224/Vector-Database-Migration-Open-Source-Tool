{
 "cells": [
  {
   "cell_type": "code",
   "execution_count": 6,
   "id": "1d5fda33",
   "metadata": {},
   "outputs": [],
   "source": [
    "from qdrant_client import QdrantClient\n",
    "from qdrant_client.http.models import Distance, VectorParams, PointStruct\n",
    "import os\n",
    "from dotenv import load_dotenv\n",
    "import logging\n",
    "from typing import List, Dict, Any\n",
    "import uuid\n",
    "\n",
    "\n",
    "logging.basicConfig(level=logging.INFO)\n",
    "logger = logging.getLogger(__name__)"
   ]
  },
  {
   "cell_type": "code",
   "execution_count": 7,
   "id": "77fbfa60",
   "metadata": {},
   "outputs": [
    {
     "name": "stderr",
     "output_type": "stream",
     "text": [
      "INFO:__main__:Environment variables loaded\n"
     ]
    }
   ],
   "source": [
    "\n",
    "load_dotenv()\n",
    "logger.info(\"Environment variables loaded\")"
   ]
  },
  {
   "cell_type": "code",
   "execution_count": 8,
   "id": "e5aae5e6",
   "metadata": {},
   "outputs": [
    {
     "name": "stderr",
     "output_type": "stream",
     "text": [
      "INFO:__main__:Environment variables loaded\n"
     ]
    }
   ],
   "source": [
    "# Load environment variables from .env file\n",
    "load_dotenv()\n",
    "qdrant_url = os.getenv(\"QDRANT_URL\")\n",
    "qdrant_api_key = os.getenv(\"QDRANT_API_KEY\")\n",
    "if not qdrant_url or not qdrant_api_key:\n",
    "    raise ValueError(\"QDRANT_URL and QDRANT_API_KEY must be set in .env file\")\n",
    "logger.info(\"Environment variables loaded\")"
   ]
  },
  {
   "cell_type": "code",
   "execution_count": null,
   "id": "8846eaa4",
   "metadata": {},
   "outputs": [
    {
     "name": "stderr",
     "output_type": "stream",
     "text": [
      "INFO:httpx:HTTP Request: GET https://a39cabe9-e04e-41bc-bfc8-c35e32b99b11.eu-west-2-0.aws.cloud.qdrant.io:6333 \"HTTP/1.1 200 OK\"\n",
      "INFO:__main__:Qdrant Cloud client initialized\n"
     ]
    }
   ],
   "source": [
    "# Initialize Qdrant client for Qdrant Cloud\n",
    "qdrant_client = QdrantClient(\n",
    "    url=qdrant_url,\n",
    "    api_key=qdrant_api_key,\n",
    "    prefer_grpc=True \n",
    ")\n",
    "logger.info(\"Qdrant Cloud client initialized\")"
   ]
  },
  {
   "cell_type": "code",
   "execution_count": 10,
   "id": "b6410d6a",
   "metadata": {},
   "outputs": [],
   "source": [
    "def migrate_to_qdrant(vectors: List[Dict[str, Any]], collection_name: str = \"research_vectors\", \n",
    "                      vector_dimension: int = 384, batch_size: int = 100) -> None:\n",
    "    \"\"\"\n",
    "    Migrate embeddings from Pinecone to Qdrant Cloud.\n",
    "    \n",
    "    Args:\n",
    "        vectors: List of dictionaries containing 'id', 'vector', and 'metadata'.\n",
    "        collection_name: Name of the Qdrant collection.\n",
    "        vector_dimension: Dimension of the vectors (default: 384 from Pinecone index).\n",
    "        batch_size: Number of points to upsert in each batch.\n",
    "    \"\"\"\n",
    "    try:\n",
    "        # Create collection if it doesn't exist\n",
    "        if not qdrant_client.collection_exists(collection_name):\n",
    "            qdrant_client.create_collection(\n",
    "                collection_name=collection_name,\n",
    "                vectors_config=VectorParams(\n",
    "                    size=vector_dimension,\n",
    "                    distance=Distance.COSINE\n",
    "                )\n",
    "            )\n",
    "            logger.info(f\"Created Qdrant collection: {collection_name}\")\n",
    "        else:\n",
    "            logger.info(f\"Collection {collection_name} already exists\")\n",
    "\n",
    "        # Prepare points for Qdrant\n",
    "        points = []\n",
    "        for vector in vectors:\n",
    "            # Validate vector data\n",
    "            if len(vector[\"vector\"]) != vector_dimension:\n",
    "                logger.warning(f\"Skipping vector {vector['id']}: Invalid dimension\")\n",
    "                continue\n",
    "            # Ensure ID is a string\n",
    "            point_id = str(vector[\"id\"]) if isinstance(vector[\"id\"], uuid.UUID) else vector[\"id\"]\n",
    "            points.append(\n",
    "                PointStruct(\n",
    "                    id=point_id,\n",
    "                    vector=vector[\"vector\"],\n",
    "                    payload=vector[\"metadata\"]\n",
    "                )\n",
    "            )\n",
    "\n",
    "        # Upsert points in batches\n",
    "        for i in range(0, len(points), batch_size):\n",
    "            batch = points[i:i + batch_size]\n",
    "            qdrant_client.upsert(\n",
    "                collection_name=collection_name,\n",
    "                points=batch\n",
    "            )\n",
    "            logger.info(f\"Upserted batch {i // batch_size + 1} with {len(batch)} points\")\n",
    "\n",
    "        # Verify the number of points\n",
    "        collection_info = qdrant_client.get_collection(collection_name=collection_name)\n",
    "        logger.info(f\"Total points in collection: {collection_info.points_count}\")\n",
    "\n",
    "        # Perform a sample similarity search to verify\n",
    "        if points:\n",
    "            query_vector = points[0].vector\n",
    "            search_results = qdrant_client.search(\n",
    "                collection_name=collection_name,\n",
    "                query_vector=query_vector,\n",
    "                limit=3\n",
    "            )\n",
    "            logger.info(\"Sample search results:\")\n",
    "            for result in search_results:\n",
    "                logger.info(f\"ID: {result.id}, Score: {result.score}, Metadata: {result.payload}\")\n",
    "\n",
    "    except Exception as e:\n",
    "        logger.error(f\"Error during migration: {str(e)}\")\n",
    "        raise"
   ]
  },
  {
   "cell_type": "code",
   "execution_count": null,
   "id": "67f94323",
   "metadata": {},
   "outputs": [
    {
     "name": "stderr",
     "output_type": "stream",
     "text": [
      "INFO:__main__:Created Qdrant collection: research_vectors\n",
      "INFO:__main__:Upserted batch 1 with 1 points\n",
      "INFO:__main__:Total points in collection: 1\n",
      "C:\\Users\\Komal\\AppData\\Local\\Temp\\ipykernel_22112\\1218810325.py:59: DeprecationWarning: `search` method is deprecated and will be removed in the future. Use `query_points` instead.\n",
      "  search_results = qdrant_client.search(\n",
      "INFO:__main__:Sample search results:\n",
      "INFO:__main__:ID: 337f6b38-f77c-41b8-a6d6-a6b1de842cfc, Score: 0.9999998807907104, Metadata: {'creator': 'Microsoft® Word 2016', 'moddate': '2018-03-12T10:24:10-04:00', 'creationdate': '2018-03-05T09:43:57+01:00', 'total_pages': 11.0, 'producer': 'Microsoft® Word 2016', 'source': 'E:\\\\AGILEFORCE\\\\Vector Database Migration\\\\data\\\\research.pdf', 'page_label': '10', 'page': 9.0, 'author': 'agimeno', 'text': 'practices, eLearning Papers, 45, 4-14. ...'}\n"
     ]
    }
   ],
   "source": [
    "# Define vectors from pinecone\n",
    "vectors = [\n",
    "    {\n",
    "        \"id\": \"337f6b38-f77c-41b8-a6d6-a6b1de842cfc\",\n",
    "        \"vector\": [0.0119110597, -0.0297347214, 0.0611310154] + [0.0] * 381, \n",
    "        \"metadata\": {\n",
    "            \"author\": \"agimeno\",\n",
    "            \"creationdate\": \"2018-03-05T09:43:57+01:00\",\n",
    "            \"creator\": \"Microsoft® Word 2016\",\n",
    "            \"moddate\": \"2018-03-12T10:24:10-04:00\",\n",
    "            \"page\": 9.0,\n",
    "            \"page_label\": \"10\",\n",
    "            \"producer\": \"Microsoft® Word 2016\",\n",
    "            \"source\": \"E:\\\\AGILEFORCE\\\\Vector Database Migration\\\\data\\\\research.pdf\",\n",
    "            \"text\": \"practices, eLearning Papers, 45, 4-14. ...\",\n",
    "            \"total_pages\": 11.0\n",
    "        }\n",
    "    },\n",
    "  \n",
    "]\n",
    "\n",
    "\n",
    "migrate_to_qdrant(vectors=vectors, collection_name=\"research_vectors\", vector_dimension=384)"
   ]
  }
 ],
 "metadata": {
  "kernelspec": {
   "display_name": ".venv",
   "language": "python",
   "name": "python3"
  },
  "language_info": {
   "codemirror_mode": {
    "name": "ipython",
    "version": 3
   },
   "file_extension": ".py",
   "mimetype": "text/x-python",
   "name": "python",
   "nbconvert_exporter": "python",
   "pygments_lexer": "ipython3",
   "version": "3.12.7"
  }
 },
 "nbformat": 4,
 "nbformat_minor": 5
}
