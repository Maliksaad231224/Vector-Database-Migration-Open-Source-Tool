{
 "cells": [
  {
   "cell_type": "code",
   "execution_count": 2,
   "id": "1d5fda33",
   "metadata": {},
   "outputs": [],
   "source": [
    "from qdrant_client import QdrantClient\n",
    "from qdrant_client.http.models import Distance, VectorParams, PointStruct\n",
    "import os\n",
    "from dotenv import load_dotenv\n",
    "from tqdm import tqdm\n",
    "import logging\n",
    "\n",
    "# Basic logging setup\n",
    "logging.basicConfig(level=logging.INFO)\n",
    "logger = logging.getLogger(__name__)"
   ]
  },
  {
   "cell_type": "code",
   "execution_count": 5,
   "id": "097fe475",
   "metadata": {},
   "outputs": [],
   "source": [
    "# Load environment variables and initialize Qdrant Cloud client\n",
    "load_dotenv()\n",
    "qdrant_url = os.getenv(\"QDRANT_URL\")\n",
    "qdrant_api_key = os.getenv(\"QDRANT_API_KEY\")\n",
    "if not qdrant_url or not qdrant_api_key:\n",
    "    raise ValueError(\"set QDRANT_URL and QDRANT_API_KEY in .env file\")\n"
   ]
  },
  {
   "cell_type": "code",
   "execution_count": 4,
   "id": "8846eaa4",
   "metadata": {},
   "outputs": [
    {
     "name": "stderr",
     "output_type": "stream",
     "text": [
      "INFO:httpx:HTTP Request: GET https://a39cabe9-e04e-41bc-bfc8-c35e32b99b11.eu-west-2-0.aws.cloud.qdrant.io:6333 \"HTTP/1.1 200 OK\"\n",
      "INFO:__main__:Qdrant Cloud client initialized\n"
     ]
    }
   ],
   "source": [
    "# Initialize Qdrant client for Qdrant Cloud\n",
    "qdrant_client = QdrantClient(\n",
    "    url=qdrant_url,\n",
    "    api_key=qdrant_api_key,\n",
    "    prefer_grpc=True \n",
    ")\n",
    "logger.info(\"Qdrant Cloud client initialized\")"
   ]
  },
  {
   "cell_type": "code",
   "execution_count": 6,
   "id": "b6410d6a",
   "metadata": {},
   "outputs": [],
   "source": [
    "def migrate_to_qdrant(vectors, collection_name=\"research_vectors\", vector_dimension=384, batch_size=100):\n",
    "    \"\"\"\n",
    "    Migrate embeddings to Qdrant Cloud.\n",
    "\n",
    "    Args:\n",
    "        vectors: List of dicts with 'id', 'vector', and 'metadata'.\n",
    "        collection_name: Qdrant collection name.\n",
    "        vector_dimension: Vector dimension (default: 384).\n",
    "        batch_size: Number of points to upsert per batch.\n",
    "    \"\"\"\n",
    "    # Create collection if it doesn't exist\n",
    "    if not qdrant_client.collection_exists(collection_name):\n",
    "        qdrant_client.create_collection(\n",
    "            collection_name=collection_name,\n",
    "            vectors_config=VectorParams(size=vector_dimension, distance=Distance.COSINE)\n",
    "        )\n",
    "        logger.info(f\"Created collection: {collection_name}\")\n",
    "\n",
    "    # Prepare points\n",
    "    points = [\n",
    "        PointStruct(\n",
    "            id=str(v[\"id\"]),\n",
    "            vector=v[\"vector\"],\n",
    "            payload=v[\"metadata\"]\n",
    "        )\n",
    "        for v in vectors if len(v[\"vector\"]) == vector_dimension\n",
    "    ]\n",
    "    if not points:\n",
    "        raise ValueError(\"No valid vectors to migrate\")\n",
    "\n",
    "    # Upsert points in batches with progress bar\n",
    "    for i in tqdm(range(0, len(points), batch_size), desc=\"Migrating vectors\"):\n",
    "        qdrant_client.upsert(collection_name=collection_name, points=points[i:i + batch_size])\n",
    "\n",
    "    # Verify migration\n",
    "    count = qdrant_client.get_collection(collection_name).points_count\n",
    "    logger.info(f\"Migrated {count} vectors to Qdrant\")\n",
    "\n",
    "    # Sample query to verify\n",
    "    if points:\n",
    "        query_vector = points[0].vector\n",
    "        results = qdrant_client.query_points(\n",
    "            collection_name=collection_name,\n",
    "            query=query_vector,\n",
    "            limit=3\n",
    "        ).points\n",
    "        logger.info(\"Sample query results:\")\n",
    "        for r in results:\n",
    "            logger.info(f\"ID: {r.id}, Score: {r.score}, Metadata: {r.payload}\")"
   ]
  },
  {
   "cell_type": "code",
   "execution_count": 7,
   "id": "67f94323",
   "metadata": {},
   "outputs": [
    {
     "name": "stderr",
     "output_type": "stream",
     "text": [
      "Migrating vectors: 100%|██████████| 1/1 [00:00<00:00,  5.64it/s]\n",
      "INFO:__main__:Migrated 1 vectors to Qdrant\n",
      "INFO:__main__:Sample query results:\n",
      "INFO:__main__:ID: 337f6b38-f77c-41b8-a6d6-a6b1de842cfc, Score: 0.9999998807907104, Metadata: {'moddate': '2018-03-12T10:24:10-04:00', 'creator': 'Microsoft® Word 2016', 'total_pages': 11.0, 'creationdate': '2018-03-05T09:43:57+01:00', 'producer': 'Microsoft® Word 2016', 'source': 'E:\\\\AGILEFORCE\\\\Vector Database Migration\\\\data\\\\research.pdf', 'author': 'agimeno', 'page': 9.0, 'page_label': '10', 'text': 'practices, eLearning Papers, 45, 4-14. ...'}\n"
     ]
    }
   ],
   "source": [
    "# Define vectors from pinecone\n",
    "vectors = [\n",
    "    {\n",
    "        \"id\": \"337f6b38-f77c-41b8-a6d6-a6b1de842cfc\",\n",
    "        \"vector\": [0.0119110597, -0.0297347214, 0.0611310154] + [0.0] * 381, \n",
    "        \"metadata\": {\n",
    "            \"author\": \"agimeno\",\n",
    "            \"creationdate\": \"2018-03-05T09:43:57+01:00\",\n",
    "            \"creator\": \"Microsoft® Word 2016\",\n",
    "            \"moddate\": \"2018-03-12T10:24:10-04:00\",\n",
    "            \"page\": 9.0,\n",
    "            \"page_label\": \"10\",\n",
    "            \"producer\": \"Microsoft® Word 2016\",\n",
    "            \"source\": \"E:\\\\AGILEFORCE\\\\Vector Database Migration\\\\data\\\\research.pdf\",\n",
    "            \"text\": \"practices, eLearning Papers, 45, 4-14. ...\",\n",
    "            \"total_pages\": 11.0\n",
    "        }\n",
    "    },\n",
    "  \n",
    "]\n",
    "\n",
    "\n",
    "migrate_to_qdrant(vectors=vectors, collection_name=\"research_vectors\", vector_dimension=384)"
   ]
  }
 ],
 "metadata": {
  "kernelspec": {
   "display_name": ".venv",
   "language": "python",
   "name": "python3"
  },
  "language_info": {
   "codemirror_mode": {
    "name": "ipython",
    "version": 3
   },
   "file_extension": ".py",
   "mimetype": "text/x-python",
   "name": "python",
   "nbconvert_exporter": "python",
   "pygments_lexer": "ipython3",
   "version": "3.12.7"
  }
 },
 "nbformat": 4,
 "nbformat_minor": 5
}
